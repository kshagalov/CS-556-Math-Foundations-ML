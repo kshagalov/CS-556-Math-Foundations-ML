{
  "cells": [
    {
      "cell_type": "markdown",
      "metadata": {
        "id": "7d4kO_YT0oDD"
      },
      "source": [
        "# System of Linear Equations with a Unique Solution, Matrix Inverse and the Determinant"
      ]
    },
    {
      "cell_type": "markdown",
      "metadata": {
        "id": "bJl8_1-B00g3"
      },
      "source": [
        "The goal of this homework is to learn how to solve systems of linear equations and to be able to compute the determinant and the inverse of an invertible matrix.\n",
        "\n",
        "**After this assignment you will be able to:**\n",
        "- Use `NumPy` package to set up the arrays corresponding to the system of linear equations.\n",
        "- Evaluate the determinant of a matrix and find the solution of the system with `NumPy` linear algebra package.\n",
        "- Perform row reduction to bring matrix into row echelon form\n",
        "- Find the solution for the system of linear equations using row reduced approach.\n",
        "- Compute the inverse of a matrix with `Numpy` linear algebra package and using row reduction approach."
      ]
    },
    {
      "cell_type": "markdown",
      "metadata": {
        "id": "al1PcVSW2LSU"
      },
      "source": [
        "## 1. Solving System of Linear Equations\n",
        "\n",
        "### 1.1 Row Reduction approach"
      ]
    },
    {
      "cell_type": "markdown",
      "metadata": {
        "id": "YKrWvcu-2j5Y"
      },
      "source": [
        "\n",
        "Solve the following system of linear equations using the reduction method (as mentioned in the week 2 lab):\n",
        "$$\\begin{cases}\n",
        "x + 2y - 3z + 4w = 12, \\\\ 2x + 2y - 2z + 3w = 10, \\\\ y + z = -1, \\\\ x - y + z - 2w = -4 \\end{cases}\\tag{1}$$\n"
      ]
    },
    {
      "cell_type": "code",
      "execution_count": 47,
      "metadata": {
        "id": "DrkFDTJc4GNP",
        "colab": {
          "base_uri": "https://localhost:8080/"
        },
        "outputId": "32911099-3f48-4698-ea45-93fd85dc2a23"
      },
      "outputs": [
        {
          "output_type": "stream",
          "name": "stdout",
          "text": [
            "[[ 1  2 -3  4 12]\n",
            " [ 2  2 -2  3 10]\n",
            " [ 0  1  1  0 -1]\n",
            " [ 1 -1  1 -2 -4]]\n"
          ]
        }
      ],
      "source": [
        "import numpy as np\n",
        "\n",
        "A = np.array([\n",
        "        [1, 2, -3, 4],\n",
        "        [2, 2, -2, 3],\n",
        "        [0, 1, 1, 0],\n",
        "        [1, -1, 1, -2]\n",
        "    ])\n",
        "\n",
        "b = np.array([12, 10, -1, -4])\n",
        "A_system = np.hstack((A, b.reshape(4,1)))\n",
        "print(A_system)"
      ]
    },
    {
      "cell_type": "code",
      "source": [
        "def AddRows(M, row_a, row_b, scalar):\n",
        "  copyM = M.copy()\n",
        "  copyM[row_a] =  scalar * copyM[row_b] + copyM[row_a]\n",
        "  return copyM\n",
        "\n",
        "def MultiplyRows(M, row, scalar):\n",
        "  copyM = M.copy()\n",
        "  copyM[row] *= scalar\n",
        "  return copyM\n",
        "\n",
        "def SwapRows(M, row_a, row_b):\n",
        "  copyM = M.copy()\n",
        "  copyM[[row_a, row_b]] = copyM[[row_b, row_a]]\n",
        "  return copyM"
      ],
      "metadata": {
        "id": "R8xncR4IPSO2"
      },
      "execution_count": 48,
      "outputs": []
    },
    {
      "cell_type": "code",
      "source": [
        "A_aug = AddRows(A_system, 1, 3, -2)\n",
        "A_aug = AddRows(A_aug, 1, 2, -4)\n",
        "A_aug = AddRows(A_aug, 0, 2, -2)\n",
        "A_aug = AddRows(A_aug, 3, 0, -1)\n",
        "A_aug = AddRows(A_aug, 3, 2, 1)\n",
        "A_aug = AddRows(A_aug, 1, 3, 1)\n",
        "A_aug = AddRows(A_aug, 2, 1, 1)\n",
        "A_aug = AddRows(A_aug, 3, 1, 7)\n",
        "A_aug = AddRows(A_aug, 2, 3, -1)\n",
        "A_aug = AddRows(A_aug, 1, 3, -1)\n",
        "A_aug = MultiplyRows(A_aug, 1, -1)\n",
        "A_aug = AddRows(A_aug, 0, 1, 5)\n",
        "A_aug = AddRows(A_aug, 0, 3, -4)\n",
        "A_aug = SwapRows(A_aug, 1, 2)\n"
      ],
      "metadata": {
        "id": "obK37WFgQVMV"
      },
      "execution_count": 49,
      "outputs": []
    },
    {
      "cell_type": "code",
      "source": [
        "A_aug"
      ],
      "metadata": {
        "colab": {
          "base_uri": "https://localhost:8080/"
        },
        "id": "6hsJMlfGQZOT",
        "outputId": "7bf803c0-8720-4e6c-acd1-bdab4a48b68d"
      },
      "execution_count": 50,
      "outputs": [
        {
          "output_type": "execute_result",
          "data": {
            "text/plain": [
              "array([[ 1,  0,  0,  0,  1],\n",
              "       [ 0,  1,  0,  0,  0],\n",
              "       [ 0,  0,  1,  0, -1],\n",
              "       [ 0,  0,  0,  1,  2]])"
            ]
          },
          "metadata": {},
          "execution_count": 50
        }
      ]
    },
    {
      "cell_type": "markdown",
      "metadata": {
        "id": "Yq8zCJ024YSK"
      },
      "source": [
        "### 1.2 `Numpy` linear algebra package\n",
        "Solve the above system of linear equations using the `numpy.linalg` package."
      ]
    },
    {
      "cell_type": "code",
      "execution_count": 55,
      "metadata": {
        "id": "zIgQXSG84uSq",
        "colab": {
          "base_uri": "https://localhost:8080/"
        },
        "outputId": "d73450d1-e262-413d-e923-4469cac99cfc"
      },
      "outputs": [
        {
          "output_type": "execute_result",
          "data": {
            "text/plain": [
              "array([ 1., -0., -1.,  2.])"
            ]
          },
          "metadata": {},
          "execution_count": 55
        }
      ],
      "source": [
        "np.linalg.solve(A, b)"
      ]
    },
    {
      "cell_type": "markdown",
      "metadata": {
        "id": "a3zNZvUI47--"
      },
      "source": [
        "## 2. Determinant\n",
        "### 2.1 Compute the determinant of matrix $A$ using the `numpy.linalg` package:\n",
        "\n",
        "$$ \\begin{align}\n",
        "  \\textbf{A}  = \\begin{bmatrix}\n",
        "1 & 0 & -2\\\\\n",
        "3 & 1 & -2\\\\\n",
        "-5 & -1 & 9\n",
        "\\end{bmatrix}\n",
        "  \\end{align}\n",
        "  $$"
      ]
    },
    {
      "cell_type": "code",
      "execution_count": 56,
      "metadata": {
        "id": "8UE20mGu5Cy4",
        "colab": {
          "base_uri": "https://localhost:8080/"
        },
        "outputId": "08e3897e-8f78-4f82-cb33-1e86528ea566"
      },
      "outputs": [
        {
          "output_type": "execute_result",
          "data": {
            "text/plain": [
              "3.000000000000001"
            ]
          },
          "metadata": {},
          "execution_count": 56
        }
      ],
      "source": [
        "A = np.array([\n",
        "        [1, 0, -2],\n",
        "        [3, 1, -2],\n",
        "        [-5, -1, 9]\n",
        "    ])\n",
        "np.linalg.det(A)"
      ]
    },
    {
      "cell_type": "markdown",
      "metadata": {
        "id": "AiwFmcw46fHm"
      },
      "source": [
        "### 2.2 Is the above matrix invertible? Why?"
      ]
    },
    {
      "cell_type": "markdown",
      "metadata": {
        "id": "YfkS_QNJ67kT"
      },
      "source": [
        "Answer here: Yes, since it passes the test that the determinant is a non-zero value."
      ]
    },
    {
      "cell_type": "markdown",
      "metadata": {
        "id": "A_x3V2i16mWE"
      },
      "source": [
        "# 3. Matrix Inverse\n",
        "### 3.1 Compute the inverse of non-singular matrix $B$ using row reduction\n",
        "$$ \\begin{align}\n",
        "  \\textbf{B}  = \\begin{bmatrix}\n",
        "1 & 2 & 1\\\\\n",
        "4 & 4 & 5\\\\\n",
        "6 & 7 & 7\n",
        "\\end{bmatrix}\n",
        "  \\end{align}\n",
        "  $$"
      ]
    },
    {
      "cell_type": "code",
      "execution_count": 57,
      "metadata": {
        "id": "6H1rRYEs6y62",
        "colab": {
          "base_uri": "https://localhost:8080/"
        },
        "outputId": "5e319329-6efa-4798-a6cc-49e3f1382a3f"
      },
      "outputs": [
        {
          "output_type": "execute_result",
          "data": {
            "text/plain": [
              "array([[1., 2., 1., 1., 0., 0.],\n",
              "       [4., 4., 5., 0., 1., 0.],\n",
              "       [6., 7., 7., 0., 0., 1.]])"
            ]
          },
          "metadata": {},
          "execution_count": 57
        }
      ],
      "source": [
        "B = np.array([\n",
        "        [1, 2, 1],\n",
        "        [4, 4, 5],\n",
        "        [6, 7, 7]\n",
        "    ])\n",
        "B_aug = np.hstack((B, np.identity(3)))\n",
        "B_aug"
      ]
    },
    {
      "cell_type": "code",
      "source": [
        "B_aug = AddRows(B_aug, 1, 0, -4)\n",
        "B_aug = AddRows(B_aug, 2, 0, -6)\n",
        "B_aug = AddRows(B_aug, 1, 2, -1)\n",
        "B_aug = AddRows(B_aug, 2, 1, 5)\n",
        "B_aug = AddRows(B_aug, 0, 1, -2)\n",
        "B_aug = AddRows(B_aug, 0, 2, -1)\n"
      ],
      "metadata": {
        "id": "1RKxLLtKWo-_"
      },
      "execution_count": 68,
      "outputs": []
    },
    {
      "cell_type": "code",
      "source": [
        "B_aug"
      ],
      "metadata": {
        "colab": {
          "base_uri": "https://localhost:8080/"
        },
        "id": "8DiN-CUBXB2N",
        "outputId": "39603afc-ab41-44a1-a3d5-be37749f3f09"
      },
      "execution_count": 69,
      "outputs": [
        {
          "output_type": "execute_result",
          "data": {
            "text/plain": [
              "array([[ 1.,  0.,  0., -7., -7.,  6.],\n",
              "       [ 0.,  1.,  0.,  2.,  1., -1.],\n",
              "       [ 0.,  0.,  1.,  4.,  5., -4.]])"
            ]
          },
          "metadata": {},
          "execution_count": 69
        }
      ]
    },
    {
      "cell_type": "code",
      "source": [
        "B_inv = (np.hsplit(B_aug, 2))[1]\n",
        "B_inv"
      ],
      "metadata": {
        "colab": {
          "base_uri": "https://localhost:8080/"
        },
        "id": "L6MF2XtOXs0R",
        "outputId": "f947e3d8-5d1f-43bf-ff00-d718551794cd"
      },
      "execution_count": 70,
      "outputs": [
        {
          "output_type": "execute_result",
          "data": {
            "text/plain": [
              "array([[-7., -7.,  6.],\n",
              "       [ 2.,  1., -1.],\n",
              "       [ 4.,  5., -4.]])"
            ]
          },
          "metadata": {},
          "execution_count": 70
        }
      ]
    },
    {
      "cell_type": "markdown",
      "metadata": {
        "id": "5voXiito6zis"
      },
      "source": [
        "### 3.2 Compute the inverse matrix $B$ using the `numpy.linalg` package."
      ]
    },
    {
      "cell_type": "code",
      "execution_count": 71,
      "metadata": {
        "id": "BJ3MYBQ-64hV",
        "colab": {
          "base_uri": "https://localhost:8080/"
        },
        "outputId": "961e26d3-6003-490e-b2b7-62c77e8a3a9f"
      },
      "outputs": [
        {
          "output_type": "execute_result",
          "data": {
            "text/plain": [
              "array([[-7., -7.,  6.],\n",
              "       [ 2.,  1., -1.],\n",
              "       [ 4.,  5., -4.]])"
            ]
          },
          "metadata": {},
          "execution_count": 71
        }
      ],
      "source": [
        "np.linalg.inv(B)"
      ]
    }
  ],
  "metadata": {
    "colab": {
      "provenance": []
    },
    "kernelspec": {
      "display_name": "Python 3 (ipykernel)",
      "language": "python",
      "name": "python3"
    },
    "language_info": {
      "codemirror_mode": {
        "name": "ipython",
        "version": 3
      },
      "file_extension": ".py",
      "mimetype": "text/x-python",
      "name": "python",
      "nbconvert_exporter": "python",
      "pygments_lexer": "ipython3",
      "version": "3.9.16"
    }
  },
  "nbformat": 4,
  "nbformat_minor": 0
}