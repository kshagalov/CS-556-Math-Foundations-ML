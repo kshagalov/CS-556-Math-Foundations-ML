{
  "cells": [
    {
      "cell_type": "markdown",
      "id": "reverse-interview",
      "metadata": {
        "id": "reverse-interview"
      },
      "source": [
        "# 1. Vectors Operations"
      ]
    },
    {
      "cell_type": "markdown",
      "id": "parental-conclusion",
      "metadata": {
        "id": "parental-conclusion"
      },
      "source": [
        "In the first part of this homework we will use Python and `NumPy` functions to perform main vector operations:\n",
        "- scalar multiplication\n",
        "- sum of vectors\n",
        "- dot product"
      ]
    },
    {
      "cell_type": "markdown",
      "id": "advance-butler",
      "metadata": {
        "id": "advance-butler"
      },
      "source": [
        "## Packages\n",
        "\n",
        "Import the `NumPy` package to access its functions."
      ]
    },
    {
      "cell_type": "code",
      "execution_count": 17,
      "id": "promotional-buffer",
      "metadata": {
        "id": "promotional-buffer"
      },
      "outputs": [],
      "source": [
        "import numpy as np"
      ]
    },
    {
      "cell_type": "markdown",
      "id": "severe-studio",
      "metadata": {
        "id": "severe-studio"
      },
      "source": [
        "<a name='1.1'></a>\n",
        "## 1.1 - Scalar Multiplication\n",
        "\n",
        "Write a function named `ScalarMultiplication` that gets as an input a numpy array $v$ representing a vector and a scalar $\\alpha$ and returns the $\\alpha v$. Hint: In Python you can perform this operation with a $*$ operator. Replace `None` with your solution."
      ]
    },
    {
      "cell_type": "code",
      "execution_count": 18,
      "id": "grnGTviMGxWG",
      "metadata": {
        "id": "grnGTviMGxWG"
      },
      "outputs": [],
      "source": [
        "def ScalarMultiplication(v, a):\n",
        "  return v*a"
      ]
    },
    {
      "cell_type": "markdown",
      "id": "q5nHjp2dHaJR",
      "metadata": {
        "id": "q5nHjp2dHaJR"
      },
      "source": [
        "<a name='1.2'></a>\n",
        "## 1.2 - Vectors Addition with Loops\n",
        "\n",
        "Write a function named `AddLoop` that gets as an input two numpy arrays $v$ and $w$ representing two vectors and returns the $v + w$ using a for loop. For simplicity, assume the vectors $v$ and $w$ have the same length. Replace `None` with your solution."
      ]
    },
    {
      "cell_type": "code",
      "execution_count": 19,
      "id": "Rto1iflsH1XX",
      "metadata": {
        "id": "Rto1iflsH1XX"
      },
      "outputs": [],
      "source": [
        "def AddLoop(v,w):\n",
        "  result=[]\n",
        "  for i in range(len(v)):\n",
        "    result.append(v[i]+w[i])\n",
        "  return result\n"
      ]
    },
    {
      "cell_type": "code",
      "execution_count": 20,
      "id": "WJZGr8X8h-XO",
      "metadata": {
        "colab": {
          "base_uri": "https://localhost:8080/"
        },
        "id": "WJZGr8X8h-XO",
        "outputId": "eda91e2d-3f6d-4d40-8c7a-df65cd1646c9"
      },
      "outputs": [
        {
          "name": "stdout",
          "output_type": "stream",
          "text": [
            "[6, 3, 11]\n"
          ]
        }
      ],
      "source": [
        "print(AddLoop([1,2,3], [5,1,8]))"
      ]
    },
    {
      "cell_type": "markdown",
      "id": "5X9Ty2L-H8Yf",
      "metadata": {
        "id": "5X9Ty2L-H8Yf"
      },
      "source": [
        "<a name='1.3'></a>\n",
        "## 1.3 - Vectors Addition with `Numpy` package\n",
        "\n",
        "Write a function named `Add` that gets as an input two numpy arrays $v$ and $w$ representing two vectors and returns the $v + w$ using the `Numpy` package. For simplicity, assume the vectors $v$ and $w$ have the same length. Replace `None` with your solution."
      ]
    },
    {
      "cell_type": "code",
      "execution_count": 21,
      "id": "eiojULUzIHRp",
      "metadata": {
        "id": "eiojULUzIHRp"
      },
      "outputs": [],
      "source": [
        "def Add(v,w):\n",
        "  return np.add(v,w)"
      ]
    },
    {
      "cell_type": "code",
      "execution_count": 22,
      "id": "rourp2RbiXEe",
      "metadata": {
        "colab": {
          "base_uri": "https://localhost:8080/"
        },
        "id": "rourp2RbiXEe",
        "outputId": "d8000d4e-8e42-4c94-ca45-5cdb3858895c"
      },
      "outputs": [
        {
          "name": "stdout",
          "output_type": "stream",
          "text": [
            "[ 6  3 11]\n"
          ]
        }
      ],
      "source": [
        "print(Add([1,2,3],[5,1,8]))"
      ]
    },
    {
      "cell_type": "markdown",
      "id": "SbnwVLePILn3",
      "metadata": {
        "id": "SbnwVLePILn3"
      },
      "source": [
        "<a name='1.4'></a>\n",
        "## 1.4 - Dot Product with Loops\n",
        "\n",
        "Write a function named `DotLoop` that gets as an input two numpy arrays $v$ and $w$ representing two vectors and returns the dot product between $v$ and $w$ using a for loop. For simplicity, assume the vectors $v$ and $w$ have the same length. Replace `None` with your solution."
      ]
    },
    {
      "cell_type": "code",
      "execution_count": 23,
      "id": "CN-lHn4HIcq-",
      "metadata": {
        "id": "CN-lHn4HIcq-"
      },
      "outputs": [],
      "source": [
        "def DotLoop(v,w):\n",
        "  result=0\n",
        "  # dot product: v1*w1 + v2*w2 +v3*w3 ...\n",
        "  for i in range(len(v)):\n",
        "    result += v[i]*w[i]\n",
        "  return result"
      ]
    },
    {
      "cell_type": "code",
      "execution_count": 24,
      "id": "tI0trtG7jlcg",
      "metadata": {
        "colab": {
          "base_uri": "https://localhost:8080/"
        },
        "id": "tI0trtG7jlcg",
        "outputId": "2c1ccaf0-a77f-472b-d012-d607911b7a87"
      },
      "outputs": [
        {
          "name": "stdout",
          "output_type": "stream",
          "text": [
            "41\n"
          ]
        }
      ],
      "source": [
        "print(DotLoop(np.array([1,4,7]), np.array([3,6,2])))"
      ]
    },
    {
      "cell_type": "markdown",
      "id": "96WQV4qHIfu-",
      "metadata": {
        "id": "96WQV4qHIfu-"
      },
      "source": [
        "<a name='1.5'></a>\n",
        "## 1.5 - Dot Product\n",
        "\n",
        "Write a function named `Dot` that gets as an input two numpy arrays $v$ and $w$ representing two vectors and returns the  dot product between $v$ and $w$ using the `Numpy` package. For simplicity, assume the vectors $v$ and $w$ have the same length. Replace `None` with your solution."
      ]
    },
    {
      "cell_type": "code",
      "execution_count": 25,
      "id": "ITjaJvJZIrO6",
      "metadata": {
        "id": "ITjaJvJZIrO6"
      },
      "outputs": [],
      "source": [
        "def Dot(v,w):\n",
        "  return np.dot(v,w)"
      ]
    },
    {
      "cell_type": "code",
      "execution_count": 26,
      "id": "5JYJX4I8kUNA",
      "metadata": {
        "colab": {
          "base_uri": "https://localhost:8080/"
        },
        "id": "5JYJX4I8kUNA",
        "outputId": "f1d7c08f-bd3a-47a0-cf57-d08d4cd6d910"
      },
      "outputs": [
        {
          "name": "stdout",
          "output_type": "stream",
          "text": [
            "41\n"
          ]
        }
      ],
      "source": [
        "print(Dot(np.array([1,4,7]), np.array([3,6,2])))\n"
      ]
    },
    {
      "cell_type": "markdown",
      "id": "8xNmJyZuJTlW",
      "metadata": {
        "id": "8xNmJyZuJTlW"
      },
      "source": [
        "# 2. Matrix Operations"
      ]
    },
    {
      "cell_type": "markdown",
      "id": "fkZw8sTJJYAC",
      "metadata": {
        "id": "fkZw8sTJJYAC"
      },
      "source": [
        "In the second part of this homework we will use Python and NumPy functions to perform main matrix operations:\n",
        "\n",
        "- sum of matrices\n",
        "- matrix multiplication"
      ]
    },
    {
      "cell_type": "markdown",
      "id": "Zrs7cjK-9p08",
      "metadata": {
        "id": "Zrs7cjK-9p08"
      },
      "source": [
        "### 2.1 Addition\n",
        "\n",
        "Write a function named `AddMatrices` that gets as an input two numpy arrays $A$ and $B$ representing two matrices and returns the sum of $A$ and $B$. Replace `None` with your solution."
      ]
    },
    {
      "cell_type": "code",
      "execution_count": 27,
      "id": "g6zbdMkw-S2B",
      "metadata": {
        "id": "g6zbdMkw-S2B"
      },
      "outputs": [],
      "source": [
        "def AddMatrices(A,B):\n",
        "  return np.add(A, B)"
      ]
    },
    {
      "cell_type": "code",
      "execution_count": 28,
      "id": "PlkhIeZhk5Gh",
      "metadata": {
        "colab": {
          "base_uri": "https://localhost:8080/"
        },
        "id": "PlkhIeZhk5Gh",
        "outputId": "438546a1-c7ff-492f-b962-1ea11c8eb053"
      },
      "outputs": [
        {
          "name": "stdout",
          "output_type": "stream",
          "text": [
            "[[1 3 3]\n",
            " [3 4 9]]\n"
          ]
        }
      ],
      "source": [
        "A = np.array([[1,2,3],[2,3,4]])\n",
        "B = np.array([[0,1,0],[1,1,5]])\n",
        "print(AddMatrices(A,B))"
      ]
    },
    {
      "cell_type": "markdown",
      "id": "ZNlo-WJo-eV1",
      "metadata": {
        "id": "ZNlo-WJo-eV1"
      },
      "source": [
        "### 2.2 Matrix Multiplication with Loops\n",
        "\n",
        "Write a function named `MultiplyMatricesLoop` that gets as an input two numpy arrays $A$ and $B$ representing two matrices and returns the product of $A$ and $B$ using for or while loops. Make sure to check whether this operation can be performed. Return $-1$ if we cannot multiply $A$ with $B$. Replace `None` with your solution."
      ]
    },
    {
      "cell_type": "code",
      "execution_count": 29,
      "id": "jaIWAT_j-w1u",
      "metadata": {
        "id": "jaIWAT_j-w1u"
      },
      "outputs": [],
      "source": [
        "def MultiplyMatricesLoop(A,B):\n",
        "  if A.shape[1] != B.shape[0]:\n",
        "    return -1\n",
        "  result = np.zeros((A.shape[0], B.shape[1]))\n",
        "  for i in range(A.shape[0]):\n",
        "      for j in range(B.shape[1]): \n",
        "          for k in range(A.shape[1]):  \n",
        "              result[i][j] += A[i][k] * B[k][j]\n",
        "  return result"
      ]
    },
    {
      "cell_type": "code",
      "execution_count": 30,
      "id": "adR0Mmujm_DG",
      "metadata": {
        "colab": {
          "base_uri": "https://localhost:8080/"
        },
        "id": "adR0Mmujm_DG",
        "outputId": "f684b2c9-3889-490e-bffb-1a4c2cf8f813"
      },
      "outputs": [
        {
          "name": "stdout",
          "output_type": "stream",
          "text": [
            "[[ 8.  9. 10.]\n",
            " [ 2.  5.  4.]\n",
            " [18. 17. 12.]]\n",
            "-1\n"
          ]
        }
      ],
      "source": [
        "# working example\n",
        "A=np.array([[1,2,3],[1,0,1],[3,4,1]])\n",
        "B=np.array([[2,4,2],[3,1,1],[0,1,2]])\n",
        "print(MultiplyMatricesLoop(A,B))\n",
        "\n",
        "# example with diff dimensions, returns -1\n",
        "C=np.array([[1,2,3],[1,0,1],[3,4,1]])\n",
        "D=np.array([[2,4,2],[3,1,1]])\n",
        "print(MultiplyMatricesLoop(C,D))"
      ]
    },
    {
      "cell_type": "markdown",
      "id": "GeSwt5GrlCDm",
      "metadata": {
        "id": "GeSwt5GrlCDm"
      },
      "source": [
        "### 2.2 Matrix Multiplication\n",
        "\n",
        "Write a function named `MultiplyMatrices` that gets as an input two numpy arrays $A$ and $B$ representing two matrices and returns the product of $A$ and $B$ using the `Numpy` package. Make sure to check whether this operation can be performed. Return $-1$ if we cannot multiply $A$ with $B$. Replace `None` with your solution."
      ]
    },
    {
      "cell_type": "code",
      "execution_count": 31,
      "id": "4bPyhtyllRQf",
      "metadata": {
        "id": "4bPyhtyllRQf"
      },
      "outputs": [],
      "source": [
        "def MultiplyMatrices(A,B):\n",
        "  if A.shape[1] != B.shape[0]:\n",
        "    return -1\n",
        "  return A*B"
      ]
    },
    {
      "cell_type": "code",
      "execution_count": 32,
      "id": "HNb2pBbbn-S_",
      "metadata": {
        "colab": {
          "base_uri": "https://localhost:8080/"
        },
        "id": "HNb2pBbbn-S_",
        "outputId": "002f4cbe-4f5c-4f17-a2b8-097d1f873de3"
      },
      "outputs": [
        {
          "name": "stdout",
          "output_type": "stream",
          "text": [
            "[[2 8 6]\n",
            " [3 0 1]\n",
            " [0 4 2]]\n",
            "-1\n"
          ]
        }
      ],
      "source": [
        "# working example\n",
        "A=np.array([[1,2,3],[1,0,1],[3,4,1]])\n",
        "B=np.array([[2,4,2],[3,1,1],[0,1,2]])\n",
        "print(MultiplyMatrices(A,B))\n",
        "\n",
        "# example with diff dimensions, returns -1\n",
        "C=np.array([[1,2,3],[1,0,1],[3,4,1]])\n",
        "D=np.array([[2,4,2],[3,1,1]])\n",
        "print(MultiplyMatrices(C,D))"
      ]
    }
  ],
  "metadata": {
    "colab": {
      "provenance": []
    },
    "kernelspec": {
      "display_name": "Python 3",
      "language": "python",
      "name": "python3"
    },
    "language_info": {
      "codemirror_mode": {
        "name": "ipython",
        "version": 3
      },
      "file_extension": ".py",
      "mimetype": "text/x-python",
      "name": "python",
      "nbconvert_exporter": "python",
      "pygments_lexer": "ipython3",
      "version": "3.12.0"
    }
  },
  "nbformat": 4,
  "nbformat_minor": 5
}
